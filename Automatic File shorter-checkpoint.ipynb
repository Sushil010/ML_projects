{
 "cells": [
  {
   "cell_type": "code",
   "execution_count": 7,
   "id": "a71b7076",
   "metadata": {},
   "outputs": [],
   "source": [
    "import os "
   ]
  },
  {
   "cell_type": "code",
   "execution_count": 8,
   "id": "8709b32c",
   "metadata": {},
   "outputs": [],
   "source": [
    "import shutil"
   ]
  },
  {
   "cell_type": "code",
   "execution_count": 9,
   "id": "42cc06af",
   "metadata": {},
   "outputs": [],
   "source": [
    "path=r\"C:/Users/DELL/Desktop/New folder (2)/project/\""
   ]
  },
  {
   "cell_type": "code",
   "execution_count": 13,
   "id": "174e7dde",
   "metadata": {},
   "outputs": [],
   "source": [
    "file_names=os.listdir(path)"
   ]
  },
  {
   "cell_type": "code",
   "execution_count": 11,
   "id": "01641c04",
   "metadata": {},
   "outputs": [],
   "source": [
    "folder_names=['csv folder', 'pdf folder','text folder','original folder']\n",
    "for iteration in range(len(folder_names)):\n",
    "    returned=os.path.exists(path +folder_names[iteration])\n",
    "    #print(returned)\n",
    "    if(returned==False):\n",
    "        os.makedirs(path+folder_names[iteration])\n",
    "    "
   ]
  },
  {
   "cell_type": "code",
   "execution_count": 33,
   "id": "90b82c5a",
   "metadata": {},
   "outputs": [],
   "source": [
    "for files in file_names:\n",
    "    if \".csv\" in file_names and not os.path.exists(path + \"csv folder/\"+ files):\n",
    "        shutil.move(path+files,path + \"csv folder\" +files)\n",
    "    elif \".pdf\" in file_names and not os.path.exists(path + \"pdf folder/\"+ files):\n",
    "        shutil.move(path+files,path + \"pdf folder\" +files)\n",
    "    elif \".txt\" in file_names and not os.path.exists(path + \"text folder/\"+ files):\n",
    "        shutil.move(path+files,path + \"text folder\" +files)    "
   ]
  },
  {
   "cell_type": "code",
   "execution_count": 29,
   "id": "c13256b6",
   "metadata": {},
   "outputs": [
    {
     "ename": "TypeError",
     "evalue": "'module' object is not callable",
     "output_type": "error",
     "traceback": [
      "\u001b[1;31m---------------------------------------------------------------------------\u001b[0m",
      "\u001b[1;31mTypeError\u001b[0m                                 Traceback (most recent call last)",
      "Cell \u001b[1;32mIn[29], line 2\u001b[0m\n\u001b[0;32m      1\u001b[0m \u001b[38;5;28;01mfor\u001b[39;00m files \u001b[38;5;129;01min\u001b[39;00m file_names:\n\u001b[1;32m----> 2\u001b[0m     \u001b[43mos\u001b[49m\u001b[38;5;241;43m.\u001b[39;49m\u001b[43mpath\u001b[49m\u001b[43m(\u001b[49m\u001b[43mpath\u001b[49m\u001b[43m \u001b[49m\u001b[38;5;241;43m+\u001b[39;49m\u001b[43m \u001b[49m\u001b[38;5;124;43m\"\u001b[39;49m\u001b[38;5;124;43mcsv folder/\u001b[39;49m\u001b[38;5;124;43m\"\u001b[39;49m\u001b[38;5;241;43m+\u001b[39;49m\u001b[43mfiles\u001b[49m\u001b[43m)\u001b[49m\n",
      "\u001b[1;31mTypeError\u001b[0m: 'module' object is not callable"
     ]
    }
   ],
   "source": [
    "for files in file_names:\n",
    "    os.path(path + \"csv folder/\"+files)"
   ]
  },
  {
   "cell_type": "code",
   "execution_count": 37,
   "id": "39ca16d6",
   "metadata": {},
   "outputs": [
    {
     "name": "stdout",
     "output_type": "stream",
     "text": [
      "C:/Users/DELL/Desktop/New folder (2)/project/csv folder1 - versed.csv\n",
      "C:/Users/DELL/Desktop/New folder (2)/project/csv folder10.-Mode-Based-Real-Time-Music-Generation-Using-Recurrent-Neural-Network.pdf\n",
      "C:/Users/DELL/Desktop/New folder (2)/project/csv folderconcatenated.csv\n",
      "C:/Users/DELL/Desktop/New folder (2)/project/csv folderconcatenated2.csv\n",
      "C:/Users/DELL/Desktop/New folder (2)/project/csv foldercsv folder\n",
      "C:/Users/DELL/Desktop/New folder (2)/project/csv folderEmotion  Dataset - Sheet5.csv\n",
      "C:/Users/DELL/Desktop/New folder (2)/project/csv foldernepali-lyrics.txt\n",
      "C:/Users/DELL/Desktop/New folder (2)/project/csv foldernew.csv\n",
      "C:/Users/DELL/Desktop/New folder (2)/project/csv foldernew_file\n",
      "C:/Users/DELL/Desktop/New folder (2)/project/csv folderoriginal folder\n",
      "C:/Users/DELL/Desktop/New folder (2)/project/csv folderpdf folder\n",
      "C:/Users/DELL/Desktop/New folder (2)/project/csv foldertext folder\n",
      "C:/Users/DELL/Desktop/New folder (2)/project/csv folderUntitled spreadsheet - Sheet1.csv\n",
      "C:/Users/DELL/Desktop/New folder (2)/project/csv folderversed.csv\n",
      "C:/Users/DELL/Desktop/New folder (2)/project/csv folderyour_data.csv\n"
     ]
    }
   ],
   "source": [
    "for files in file_names :\n",
    "    print(path+\"csv folder\"+files)"
   ]
  },
  {
   "cell_type": "code",
   "execution_count": null,
   "id": "9efe05e6",
   "metadata": {},
   "outputs": [],
   "source": []
  }
 ],
 "metadata": {
  "kernelspec": {
   "display_name": "Python 3",
   "language": "python",
   "name": "python3"
  },
  "language_info": {
   "codemirror_mode": {
    "name": "ipython",
    "version": 3
   },
   "file_extension": ".py",
   "mimetype": "text/x-python",
   "name": "python",
   "nbconvert_exporter": "python",
   "pygments_lexer": "ipython3",
   "version": "3.9.15"
  }
 },
 "nbformat": 4,
 "nbformat_minor": 5
}
