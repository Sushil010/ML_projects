{
 "cells": [
  {
   "cell_type": "code",
   "execution_count": 1,
   "id": "a71b7076",
   "metadata": {},
   "outputs": [],
   "source": [
    "import os "
   ]
  },
  {
   "cell_type": "code",
   "execution_count": 2,
   "id": "8709b32c",
   "metadata": {},
   "outputs": [],
   "source": [
    "import shutil"
   ]
  },
  {
   "cell_type": "code",
   "execution_count": 3,
   "id": "42cc06af",
   "metadata": {},
   "outputs": [],
   "source": [
    "path=r\"C:/Users/DELL/Desktop/New folder (2)/project/\""
   ]
  },
  {
   "cell_type": "code",
   "execution_count": 4,
   "id": "174e7dde",
   "metadata": {},
   "outputs": [],
   "source": [
    "file_names=os.listdir(path)"
   ]
  },
  {
   "cell_type": "code",
   "execution_count": null,
   "id": "cb695e4d",
   "metadata": {},
   "outputs": [],
   "source": []
  },
  {
   "cell_type": "code",
   "execution_count": 8,
   "id": "01641c04",
   "metadata": {},
   "outputs": [],
   "source": [
    "folder_names=['csv folder', 'pdf folder','text folder','original folder']\n",
    "for iteration in range(len(folder_names)):\n",
    "    returned=os.path.exists(path +folder_names[iteration])\n",
    "    #print(returned)\n",
    "    if(returned==False):\n",
    "        os.makedirs(path+folder_names[iteration])\n",
    "    "
   ]
  },
  {
   "cell_type": "code",
   "execution_count": 17,
   "id": "90b82c5a",
   "metadata": {},
   "outputs": [],
   "source": [
    "for file in file_names:\n",
    "    #if \".csv\" in file and not os.path.exists(path + \"csv folder/\"+ file):\n",
    "    #    shutil.move(path+file,path + \"csv folder/\" +file)\n",
    "    if \".pdf\" in file and not os.path.exists(path + \"pdf folder/\"+ file):\n",
    "        shutil.move(path+file,path + \"pdf folder/\" +file)\n",
    "    #elif \".txt\" in files and not os.path.exists(path + \"text folder/\"+ files):\n",
    "    #    shutil.move(path+files,path + \"text folder\" +files)    "
   ]
  },
  {
   "cell_type": "code",
   "execution_count": 11,
   "id": "c13256b6",
   "metadata": {},
   "outputs": [],
   "source": [
    "shutil.move()"
   ]
  },
  {
   "cell_type": "code",
   "execution_count": 22,
   "id": "39ca16d6",
   "metadata": {},
   "outputs": [],
   "source": [
    "import os\n",
    "import shutil\n",
    "\n",
    "path = r\"C:/Users/DELL/Desktop/New folder (2)/project/\"\n",
    "file_names = os.listdir(path)\n",
    "folder_names = ['csv folder', 'pdf folder', 'text folder', 'original folder']\n",
    "\n",
    "for file in file_names:\n",
    "    if file.endswith(\".pdf\") and not os.path.exists(os.path.join(path, \"pdf folder\", file)):\n",
    "        source_path = os.path.join(path, file)\n",
    "        destination_path = os.path.join(path, \"pdf folder\", file)\n",
    "        shutil.move(source_path, destination_path)\n",
    "    elif file.endswith(\".csv\") and not os.path.exists(os.path.join(path, \"csv folder\", file)):\n",
    "        source_path = os.path.join(path, file)\n",
    "        destination_path = os.path.join(path, \"csv folder\", file)\n",
    "        shutil.move(source_path, destination_path)\n",
    "    elif file.endswith(\".txt\") and not os.path.exists(os.path.join(path, \"text folder\", file)):\n",
    "        source_path = os.path.join(path, file)\n",
    "        destination_path = os.path.join(path, \"text folder\", file)\n",
    "        shutil.move(source_path, destination_path)    \n",
    "    elif file.endswith(\".file\") and not os.path.exists(os.path.join(path, \"original folder\", file)):\n",
    "        source_path = os.path.join(path, file)\n",
    "        destination_path = os.path.join(path, \"original folder\", file)\n",
    "        shutil.move(source_path, destination_path)    "
   ]
  },
  {
   "cell_type": "code",
   "execution_count": null,
   "id": "9efe05e6",
   "metadata": {},
   "outputs": [],
   "source": []
  },
  {
   "cell_type": "code",
   "execution_count": null,
   "id": "c4c63731",
   "metadata": {},
   "outputs": [],
   "source": []
  }
 ],
 "metadata": {
  "kernelspec": {
   "display_name": "Python 3",
   "language": "python",
   "name": "python3"
  },
  "language_info": {
   "codemirror_mode": {
    "name": "ipython",
    "version": 3
   },
   "file_extension": ".py",
   "mimetype": "text/x-python",
   "name": "python",
   "nbconvert_exporter": "python",
   "pygments_lexer": "ipython3",
   "version": "3.9.15"
  }
 },
 "nbformat": 4,
 "nbformat_minor": 5
}
